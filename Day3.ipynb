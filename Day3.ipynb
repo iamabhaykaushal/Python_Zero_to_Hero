{
  "nbformat": 4,
  "nbformat_minor": 0,
  "metadata": {
    "colab": {
      "name": "Day1.ipynb",
      "provenance": []
    },
    "kernelspec": {
      "name": "python3",
      "display_name": "Python 3"
    },
    "language_info": {
      "name": "python"
    }
  },
  "cells": [
    {
      "cell_type": "code",
      "metadata": {
        "colab": {
          "base_uri": "https://localhost:8080/"
        },
        "id": "592L8fCGLftz",
        "outputId": "ed0ddeba-421a-4c2f-86b2-bc85b338b298"
      },
      "source": [
        "#list of gifts given to the respective persons\n",
        "person_list={'1':2, '2':1, '3':4, '4':5, '5':3}\n",
        "print(person_list.values())\n",
        "\n",
        "person_list={1:2, 2:1, 3:4, 4:5, 5:3, 3:2}\n",
        "print(sorted(person_list))"
      ],
      "execution_count": 26,
      "outputs": [
        {
          "output_type": "stream",
          "text": [
            "dict_values([2, 1, 4, 5, 3])\n",
            "[1, 2, 3, 4, 5]\n"
          ],
          "name": "stdout"
        }
      ]
    }
  ]
}
