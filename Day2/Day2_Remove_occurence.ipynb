{
  "nbformat": 4,
  "nbformat_minor": 0,
  "metadata": {
    "colab": {
      "name": "Day1.ipynb",
      "provenance": []
    },
    "kernelspec": {
      "name": "python3",
      "display_name": "Python 3"
    },
    "language_info": {
      "name": "python"
    }
  },
  "cells": [
    {
      "cell_type": "code",
      "metadata": {
        "colab": {
          "base_uri": "https://localhost:8080/"
        },
        "id": "592L8fCGLftz",
        "outputId": "7d51cff4-922f-4998-d89d-0b498f99815e"
      },
      "source": [
        "def remove_values_from_list(the_list, val):\n",
        "   return [value for value in the_list if value != val]\n",
        "\n",
        "x = [1, 2, 3, 4, 2, 2, 5]\n",
        "x = remove_values_from_list(x, 2)\n",
        "print(x)"
      ],
      "execution_count": 21,
      "outputs": [
        {
          "output_type": "stream",
          "text": [
            "[1, 3, 4, 5]\n"
          ],
          "name": "stdout"
        }
      ]
    }
  ]
}