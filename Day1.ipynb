{
  "nbformat": 4,
  "nbformat_minor": 0,
  "metadata": {
    "colab": {
      "name": "Day1.ipynb",
      "provenance": []
    },
    "kernelspec": {
      "name": "python3",
      "display_name": "Python 3"
    },
    "language_info": {
      "name": "python"
    }
  },
  "cells": [
    {
      "cell_type": "code",
      "metadata": {
        "colab": {
          "base_uri": "https://localhost:8080/"
        },
        "id": "592L8fCGLftz",
        "outputId": "92e0b18c-328e-4ae4-926e-b8d0c38d7a15"
      },
      "source": [
        "li= [int(i) for i in input('enter the values: ').split()]\n",
        "\n",
        "li.sort(reverse=True)\n",
        "print(li)"
      ],
      "execution_count": 19,
      "outputs": [
        {
          "output_type": "stream",
          "text": [
            "enter the values: 5 8 7 6 4\n",
            "[8, 7, 6, 5, 4]\n"
          ],
          "name": "stdout"
        }
      ]
    }
  ]
}